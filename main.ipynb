{
 "cells": [
  {
   "cell_type": "code",
   "execution_count": 279,
   "metadata": {},
   "outputs": [
    {
     "name": "stdout",
     "output_type": "stream",
     "text": [
      "The autoreload extension is already loaded. To reload it, use:\n",
      "  %reload_ext autoreload\n"
     ]
    }
   ],
   "source": [
    "%load_ext autoreload\n",
    "%autoreload 2"
   ]
  },
  {
   "cell_type": "markdown",
   "metadata": {},
   "source": [
    "### Imports"
   ]
  },
  {
   "cell_type": "code",
   "execution_count": 280,
   "metadata": {},
   "outputs": [],
   "source": [
    "import pandas as pd\n",
    "\n",
    "from src.config import SHEET_NAME_PATTERN\n",
    "from src.course_stage_semester_specialty import (\n",
    "    create_course_id,\n",
    "    get_course_stage_semester_specialty,\n",
    ")\n",
    "from src.group import create_groups_dim\n",
    "from src.reading import drop_empty_days, read_and_combine_sheets\n",
    "from src.rooms import create_room_dim, preprocess_rooms\n",
    "from src.subject import create_subjects_dim\n",
    "from src.teachers import create_teachers_dim, get_all_teachers"
   ]
  },
  {
   "cell_type": "markdown",
   "metadata": {},
   "source": [
    "### Read All sheets"
   ]
  },
  {
   "cell_type": "code",
   "execution_count": 281,
   "metadata": {},
   "outputs": [],
   "source": [
    "hours_and_teachers_combined = read_and_combine_sheets(\n",
    "    \"./data/raw/Hours and Teachers.xlsx\"\n",
    ")\n",
    "timetables_combined = read_and_combine_sheets(\"./data/raw/Timetables.xlsx\")\n",
    "timetables_combined = drop_empty_days(timetables_combined)"
   ]
  },
  {
   "cell_type": "markdown",
   "metadata": {},
   "source": [
    "### Course, Stage, Semester"
   ]
  },
  {
   "cell_type": "code",
   "execution_count": 282,
   "metadata": {},
   "outputs": [],
   "source": [
    "sheet_names = hours_and_teachers_combined.sheet_name.unique()\n",
    "courses_stages_semesters = pd.DataFrame(\n",
    "    [get_course_stage_semester_specialty(sheet_name) for sheet_name in sheet_names],\n",
    "    columns=SHEET_NAME_PATTERN,\n",
    ")\n",
    "\n",
    "\n",
    "courses = courses_stages_semesters[[\"course_name\", \"specialty\"]].drop_duplicates()\n",
    "courses = courses.set_index(create_course_id(courses))\n",
    "stages = courses_stages_semesters[[\"stage_name\"]].drop_duplicates()\n",
    "semesters = courses_stages_semesters[[\"semester_num\"]].drop_duplicates()\n",
    "\n",
    "courses.to_excel(\"data/dim/courses_dim.xlsx\", index=False)\n",
    "stages.to_excel(\"data/dim/stages_dim.xlsx\", index=False)\n",
    "semesters.to_excel(\"data/dim/semesters_dim.xlsx\", index=False)"
   ]
  },
  {
   "cell_type": "markdown",
   "metadata": {},
   "source": [
    "### Group"
   ]
  },
  {
   "cell_type": "code",
   "execution_count": 283,
   "metadata": {},
   "outputs": [],
   "source": [
    "groups_dim = create_groups_dim(timetables_combined)\n",
    "\n",
    "groups_dim.to_excel(\"data/dim/groups_dim.xlsx\", index=True)"
   ]
  },
  {
   "cell_type": "markdown",
   "metadata": {},
   "source": [
    "### Subject"
   ]
  },
  {
   "cell_type": "code",
   "execution_count": 284,
   "metadata": {},
   "outputs": [
    {
     "name": "stdout",
     "output_type": "stream",
     "text": [
      "79\n"
     ]
    }
   ],
   "source": [
    "# subject_dim_tt = create_subjects_dim(timetables_combined, \"timetable\")\n",
    "subject_dim_ht = create_subjects_dim(hours_and_teachers_combined, \"hours_and_teachers\")\n",
    "subject_dim_ht.to_excel(\"data/dim/subject_dim.xlsx\", index=True)"
   ]
  },
  {
   "cell_type": "markdown",
   "metadata": {},
   "source": [
    "## Teachers"
   ]
  },
  {
   "cell_type": "code",
   "execution_count": 285,
   "metadata": {},
   "outputs": [],
   "source": [
    "all_teachers = get_all_teachers(hours_and_teachers_combined)\n",
    "\n",
    "\n",
    "teachers_dim = create_teachers_dim(all_teachers)\n",
    "\n",
    "teachers_dim.to_excel(\"data/dim/teachers_dim.xlsx\", index=True)"
   ]
  },
  {
   "cell_type": "markdown",
   "metadata": {},
   "source": [
    "### Rooms"
   ]
  },
  {
   "cell_type": "code",
   "execution_count": 287,
   "metadata": {},
   "outputs": [],
   "source": [
    "rooms = preprocess_rooms(timetables_combined[\"room\"]).unique()\n",
    "\n",
    "rooms_dim = create_room_dim(rooms)\n",
    "rooms_dim.to_excel(\"data/dim/rooms_dim.xlsx\", index=False)"
   ]
  }
 ],
 "metadata": {
  "kernelspec": {
   "display_name": ".venv",
   "language": "python",
   "name": "python3"
  },
  "language_info": {
   "codemirror_mode": {
    "name": "ipython",
    "version": 3
   },
   "file_extension": ".py",
   "mimetype": "text/x-python",
   "name": "python",
   "nbconvert_exporter": "python",
   "pygments_lexer": "ipython3",
   "version": "3.11.9"
  }
 },
 "nbformat": 4,
 "nbformat_minor": 2
}
